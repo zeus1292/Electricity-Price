{
 "cells": [
  {
   "cell_type": "code",
   "execution_count": 1,
   "metadata": {},
   "outputs": [
    {
     "data": {
      "text/html": [
       "<div>\n",
       "<style scoped>\n",
       "    .dataframe tbody tr th:only-of-type {\n",
       "        vertical-align: middle;\n",
       "    }\n",
       "\n",
       "    .dataframe tbody tr th {\n",
       "        vertical-align: top;\n",
       "    }\n",
       "\n",
       "    .dataframe thead th {\n",
       "        text-align: right;\n",
       "    }\n",
       "</style>\n",
       "<table border=\"1\" class=\"dataframe\">\n",
       "  <thead>\n",
       "    <tr style=\"text-align: right;\">\n",
       "      <th></th>\n",
       "      <th>106THSO_LNODED1</th>\n",
       "      <th>118THSO_LNODER1</th>\n",
       "      <th>13THSO_LNODE-3</th>\n",
       "      <th>13THSO_LNODED2</th>\n",
       "      <th>23RDST_LNODED3</th>\n",
       "      <th>26FTDROP_GNODEIT</th>\n",
       "      <th>2C559EQ2_7_N001</th>\n",
       "      <th>3RDWEST_LNODED1</th>\n",
       "      <th>3RDWEST_LNODED2</th>\n",
       "      <th>5THWEST_LNODED1</th>\n",
       "      <th>...</th>\n",
       "      <th>WLSV_LNODEWR1</th>\n",
       "      <th>WLSV_LNODEWR2</th>\n",
       "      <th>WLSV_LNODEWR3</th>\n",
       "      <th>WNP_2_GNODE1</th>\n",
       "      <th>WPRT_LNODEWR1</th>\n",
       "      <th>WPRT_LNODEWR2</th>\n",
       "      <th>WUNI_LNODEWR1</th>\n",
       "      <th>WUNI_LNODEWR2</th>\n",
       "      <th>YMHL_LNODEBR1</th>\n",
       "      <th>YMHL_LNODEBR2</th>\n",
       "    </tr>\n",
       "    <tr>\n",
       "      <th>Date</th>\n",
       "      <th></th>\n",
       "      <th></th>\n",
       "      <th></th>\n",
       "      <th></th>\n",
       "      <th></th>\n",
       "      <th></th>\n",
       "      <th></th>\n",
       "      <th></th>\n",
       "      <th></th>\n",
       "      <th></th>\n",
       "      <th></th>\n",
       "      <th></th>\n",
       "      <th></th>\n",
       "      <th></th>\n",
       "      <th></th>\n",
       "      <th></th>\n",
       "      <th></th>\n",
       "      <th></th>\n",
       "      <th></th>\n",
       "      <th></th>\n",
       "      <th></th>\n",
       "    </tr>\n",
       "  </thead>\n",
       "  <tbody>\n",
       "    <tr>\n",
       "      <th>20160301</th>\n",
       "      <td>9.82555</td>\n",
       "      <td>9.82555</td>\n",
       "      <td>10.32424</td>\n",
       "      <td>9.81753</td>\n",
       "      <td>9.80323</td>\n",
       "      <td>9.71557</td>\n",
       "      <td>35.56096</td>\n",
       "      <td>9.82223</td>\n",
       "      <td>9.82223</td>\n",
       "      <td>9.81956</td>\n",
       "      <td>...</td>\n",
       "      <td>NaN</td>\n",
       "      <td>NaN</td>\n",
       "      <td>NaN</td>\n",
       "      <td>NaN</td>\n",
       "      <td>NaN</td>\n",
       "      <td>NaN</td>\n",
       "      <td>NaN</td>\n",
       "      <td>NaN</td>\n",
       "      <td>NaN</td>\n",
       "      <td>NaN</td>\n",
       "    </tr>\n",
       "    <tr>\n",
       "      <th>20160302</th>\n",
       "      <td>24.08801</td>\n",
       "      <td>24.08393</td>\n",
       "      <td>26.44433</td>\n",
       "      <td>24.06762</td>\n",
       "      <td>24.05132</td>\n",
       "      <td>23.72926</td>\n",
       "      <td>32.62693</td>\n",
       "      <td>24.08393</td>\n",
       "      <td>24.08393</td>\n",
       "      <td>24.07985</td>\n",
       "      <td>...</td>\n",
       "      <td>NaN</td>\n",
       "      <td>NaN</td>\n",
       "      <td>NaN</td>\n",
       "      <td>NaN</td>\n",
       "      <td>NaN</td>\n",
       "      <td>NaN</td>\n",
       "      <td>NaN</td>\n",
       "      <td>NaN</td>\n",
       "      <td>NaN</td>\n",
       "      <td>NaN</td>\n",
       "    </tr>\n",
       "    <tr>\n",
       "      <th>20160303</th>\n",
       "      <td>20.54867</td>\n",
       "      <td>20.53885</td>\n",
       "      <td>22.74389</td>\n",
       "      <td>20.55618</td>\n",
       "      <td>20.62541</td>\n",
       "      <td>20.53256</td>\n",
       "      <td>27.54345</td>\n",
       "      <td>20.57052</td>\n",
       "      <td>20.57052</td>\n",
       "      <td>20.56071</td>\n",
       "      <td>...</td>\n",
       "      <td>NaN</td>\n",
       "      <td>NaN</td>\n",
       "      <td>NaN</td>\n",
       "      <td>NaN</td>\n",
       "      <td>NaN</td>\n",
       "      <td>NaN</td>\n",
       "      <td>NaN</td>\n",
       "      <td>NaN</td>\n",
       "      <td>NaN</td>\n",
       "      <td>NaN</td>\n",
       "    </tr>\n",
       "    <tr>\n",
       "      <th>20160304</th>\n",
       "      <td>20.49322</td>\n",
       "      <td>20.49322</td>\n",
       "      <td>21.80458</td>\n",
       "      <td>20.48818</td>\n",
       "      <td>20.48539</td>\n",
       "      <td>20.31557</td>\n",
       "      <td>23.35957</td>\n",
       "      <td>20.49398</td>\n",
       "      <td>20.49398</td>\n",
       "      <td>20.49398</td>\n",
       "      <td>...</td>\n",
       "      <td>NaN</td>\n",
       "      <td>NaN</td>\n",
       "      <td>NaN</td>\n",
       "      <td>NaN</td>\n",
       "      <td>NaN</td>\n",
       "      <td>NaN</td>\n",
       "      <td>NaN</td>\n",
       "      <td>NaN</td>\n",
       "      <td>NaN</td>\n",
       "      <td>NaN</td>\n",
       "    </tr>\n",
       "    <tr>\n",
       "      <th>20160305</th>\n",
       "      <td>22.56454</td>\n",
       "      <td>22.56454</td>\n",
       "      <td>24.02016</td>\n",
       "      <td>22.54972</td>\n",
       "      <td>22.51486</td>\n",
       "      <td>21.21754</td>\n",
       "      <td>26.52639</td>\n",
       "      <td>22.55557</td>\n",
       "      <td>22.55557</td>\n",
       "      <td>22.55557</td>\n",
       "      <td>...</td>\n",
       "      <td>NaN</td>\n",
       "      <td>NaN</td>\n",
       "      <td>NaN</td>\n",
       "      <td>NaN</td>\n",
       "      <td>NaN</td>\n",
       "      <td>NaN</td>\n",
       "      <td>NaN</td>\n",
       "      <td>NaN</td>\n",
       "      <td>NaN</td>\n",
       "      <td>NaN</td>\n",
       "    </tr>\n",
       "  </tbody>\n",
       "</table>\n",
       "<p>5 rows × 5972 columns</p>\n",
       "</div>"
      ],
      "text/plain": [
       "          106THSO_LNODED1  118THSO_LNODER1  13THSO_LNODE-3  13THSO_LNODED2  \\\n",
       "Date                                                                         \n",
       "20160301          9.82555          9.82555        10.32424         9.81753   \n",
       "20160302         24.08801         24.08393        26.44433        24.06762   \n",
       "20160303         20.54867         20.53885        22.74389        20.55618   \n",
       "20160304         20.49322         20.49322        21.80458        20.48818   \n",
       "20160305         22.56454         22.56454        24.02016        22.54972   \n",
       "\n",
       "          23RDST_LNODED3  26FTDROP_GNODEIT  2C559EQ2_7_N001  3RDWEST_LNODED1  \\\n",
       "Date                                                                           \n",
       "20160301         9.80323           9.71557         35.56096          9.82223   \n",
       "20160302        24.05132          23.72926         32.62693         24.08393   \n",
       "20160303        20.62541          20.53256         27.54345         20.57052   \n",
       "20160304        20.48539          20.31557         23.35957         20.49398   \n",
       "20160305        22.51486          21.21754         26.52639         22.55557   \n",
       "\n",
       "          3RDWEST_LNODED2  5THWEST_LNODED1  ...  WLSV_LNODEWR1  WLSV_LNODEWR2  \\\n",
       "Date                                        ...                                 \n",
       "20160301          9.82223          9.81956  ...            NaN            NaN   \n",
       "20160302         24.08393         24.07985  ...            NaN            NaN   \n",
       "20160303         20.57052         20.56071  ...            NaN            NaN   \n",
       "20160304         20.49398         20.49398  ...            NaN            NaN   \n",
       "20160305         22.55557         22.55557  ...            NaN            NaN   \n",
       "\n",
       "          WLSV_LNODEWR3  WNP_2_GNODE1  WPRT_LNODEWR1  WPRT_LNODEWR2  \\\n",
       "Date                                                                  \n",
       "20160301            NaN           NaN            NaN            NaN   \n",
       "20160302            NaN           NaN            NaN            NaN   \n",
       "20160303            NaN           NaN            NaN            NaN   \n",
       "20160304            NaN           NaN            NaN            NaN   \n",
       "20160305            NaN           NaN            NaN            NaN   \n",
       "\n",
       "          WUNI_LNODEWR1  WUNI_LNODEWR2  YMHL_LNODEBR1  YMHL_LNODEBR2  \n",
       "Date                                                                  \n",
       "20160301            NaN            NaN            NaN            NaN  \n",
       "20160302            NaN            NaN            NaN            NaN  \n",
       "20160303            NaN            NaN            NaN            NaN  \n",
       "20160304            NaN            NaN            NaN            NaN  \n",
       "20160305            NaN            NaN            NaN            NaN  \n",
       "\n",
       "[5 rows x 5972 columns]"
      ]
     },
     "execution_count": 1,
     "metadata": {},
     "output_type": "execute_result"
    }
   ],
   "source": [
    "import pandas as pd\n",
    "import numpy as np\n",
    "import requests\n",
    "import datetime\n",
    "from matplotlib import pyplot\n",
    "from pandas.plotting import autocorrelation_plot\n",
    "#import cpickle as pickle\n",
    "\n",
    "#price_df = pd.read_csv(\"20180101_hourly_prices.csv\")\n",
    "price_df=pd.read_pickle(\"data_spread.pkl\")\n",
    "price_df.head(5)"
   ]
  },
  {
   "cell_type": "code",
   "execution_count": null,
   "metadata": {
    "scrolled": true
   },
   "outputs": [],
   "source": [
    "price_df.head(50)"
   ]
  },
  {
   "cell_type": "code",
   "execution_count": 79,
   "metadata": {},
   "outputs": [
    {
     "data": {
      "text/plain": [
       "<matplotlib.axes._subplots.AxesSubplot at 0x206e3d98b00>"
      ]
     },
     "execution_count": 79,
     "metadata": {},
     "output_type": "execute_result"
    },
    {
     "data": {
      "image/png": "[encoded data removed]",
      "text/plain": [
       "<Figure size 432x288 with 1 Axes>"
      ]
     },
     "metadata": {
      "needs_background": "light"
     },
     "output_type": "display_data"
    }
   ],
   "source": [
    "temp=price_df[\"106THSO_LNODED1\"]\n",
    "#temp.set_index(\"Timestamp\",inplace=True)\n",
    "#temp.head(5)\n",
    "temp.plot()\n",
    "\n"
   ]
  },
  {
   "cell_type": "code",
   "execution_count": 59,
   "metadata": {
    "scrolled": true
   },
   "outputs": [
    {
     "data": {
      "text/plain": [
       "Date\n",
       "20171125    19.28265\n",
       "20171126    19.80085\n",
       "20171127    27.77165\n",
       "20171128    23.15839\n",
       "20171129    14.56006\n",
       "20171130    13.96644\n",
       "20171201    13.92743\n",
       "20171201    22.64315\n",
       "20171202    12.91269\n",
       "20171203    25.11734\n",
       "20171204    23.24401\n",
       "20171205    25.77113\n",
       "20171206    17.91634\n",
       "20171207    24.45105\n",
       "20171208    22.73520\n",
       "20171209    20.62394\n",
       "20171210    16.06050\n",
       "20171211    20.53469\n",
       "20171212    18.94738\n",
       "20171213    20.68610\n",
       "20171214    25.80592\n",
       "20171215    20.61711\n",
       "20171216    19.66606\n",
       "20171217    20.77601\n",
       "20171218    21.30723\n",
       "20171219    23.29704\n",
       "20171220    23.43119\n",
       "20171221    27.82189\n",
       "20171222    22.32754\n",
       "20171223    19.12670\n",
       "              ...   \n",
       "20180201    15.49189\n",
       "20180201    19.45469\n",
       "20180202    33.03061\n",
       "20180203    34.84806\n",
       "20180204    36.78403\n",
       "20180205    33.57966\n",
       "20180206    31.61641\n",
       "20180207    32.96365\n",
       "20180208    31.93986\n",
       "20180209    33.30020\n",
       "20180210    37.63201\n",
       "20180211    34.67280\n",
       "20180212    33.06977\n",
       "20180213    27.04204\n",
       "20180214    24.63461\n",
       "20180215    24.27431\n",
       "20180216    33.26301\n",
       "20180217    37.72374\n",
       "20180218    44.78724\n",
       "20180219    41.31801\n",
       "20180220    56.10755\n",
       "20180221    80.90088\n",
       "20180222    75.23337\n",
       "20180223    84.63405\n",
       "20180224    54.65682\n",
       "20180225    56.07247\n",
       "20180226    52.53140\n",
       "20180227    43.04759\n",
       "20180228    47.72892\n",
       "20180301    44.80127\n",
       "Name: 106THSO_LNODED1, Length: 100, dtype: float64"
      ]
     },
     "execution_count": 59,
     "metadata": {},
     "output_type": "execute_result"
    }
   ],
   "source": [
    "#temp.describe()\n",
    "temp.tail(100)"
   ]
  },
  {
   "cell_type": "code",
   "execution_count": 60,
   "metadata": {},
   "outputs": [],
   "source": [
    "#window is selected as 24 owing to the data being hourly prices\n",
    "\n",
    "rolmean = temp.rolling(window=30).mean()\n",
    "rolstd = temp.rolling(window=30).std()"
   ]
  },
  {
   "cell_type": "code",
   "execution_count": 61,
   "metadata": {},
   "outputs": [
    {
     "data": {
      "image/png": "[encoded data removed]",
      "text/plain": [
       "<Figure size 432x288 with 1 Axes>"
      ]
     },
     "metadata": {
      "needs_background": "light"
     },
     "output_type": "display_data"
    }
   ],
   "source": [
    "import matplotlib.pylab as plt\n",
    "\n",
    "orig = plt.plot(temp,color=\"blue\",label=\"Original\")\n",
    "mean_d = plt.plot(rolmean, color = \"red\", label = \"Rolling Mean\")\n",
    "std_d = plt.plot(rolstd,color = \"black\", label = \"Rolling Std\")\n",
    "plt.show()"
   ]
  },
  {
   "cell_type": "code",
   "execution_count": 62,
   "metadata": {},
   "outputs": [
    {
     "data": {
      "image/png": "[encoded data removed]",
      "text/plain": [
       "<Figure size 432x288 with 1 Axes>"
      ]
     },
     "metadata": {
      "needs_background": "light"
     },
     "output_type": "display_data"
    }
   ],
   "source": [
    "#Taking (or Trying the log) = Gives no significant advantage\n",
    "#There is no particular trend\n",
    "\n",
    "temp_log = np.log(temp)\n",
    "plt.plot(temp_log)\n",
    "\n",
    "\n",
    "rolmean_log = temp_log.rolling(window=24).mean()\n",
    "rolstd_log = temp_log.rolling(window=24).std()\n",
    "\n",
    "orig = plt.plot(temp_log,color=\"blue\",label=\"Original\")\n",
    "mean_d = plt.plot(rolmean_log, color = \"red\", label = \"Rolling Mean\")\n",
    "std_d = plt.plot(rolstd_log,color = \"black\", label = \"Rolling Std\")\n",
    "plt.show()"
   ]
  },
  {
   "cell_type": "code",
   "execution_count": 63,
   "metadata": {},
   "outputs": [
    {
     "data": {
      "image/png": "[encoded data removed]",
      "text/plain": [
       "<Figure size 432x288 with 2 Axes>"
      ]
     },
     "metadata": {
      "needs_background": "light"
     },
     "output_type": "display_data"
    }
   ],
   "source": [
    "#finding the p and q values\n",
    "from statsmodels.tsa.stattools import acf, pacf\n",
    "\n",
    "lag_acf = acf (temp_log, nlags=20)\n",
    "lag_pacf = pacf (temp_log, nlags=20, method = \"ols\")\n",
    "\n",
    "#Plot ACF\n",
    "plt.subplot(121)\n",
    "plt.plot(lag_acf)\n",
    "plt.axhline(y=0, linestyle='--',color = 'gray')\n",
    "plt.axhline(y=-1.96/np.sqrt(len(temp_log)), linestyle='--',color = 'gray')\n",
    "plt.axhline(y=1.96/np.sqrt(len(temp_log)), linestyle='--',color = 'gray')\n",
    "plt.title(\"Autocorrelation Function\")\n",
    "\n",
    "#Plot PACF\n",
    "plt.subplot(122)\n",
    "plt.plot(lag_pacf)\n",
    "plt.axhline(y=0, linestyle='--',color = 'gray')\n",
    "plt.axhline(y=-1.96/np.sqrt(len(temp_log)), linestyle='--',color = 'gray')\n",
    "plt.axhline(y=1.96/np.sqrt(len(temp_log)), linestyle='--',color = 'gray')\n",
    "plt.title(\"Partial Autocorrelation Function\")\n",
    "plt.tight_layout()\n",
    "\n",
    "#We choose p as 5 and q as 2\n"
   ]
  },
  {
   "cell_type": "code",
   "execution_count": 65,
   "metadata": {},
   "outputs": [
    {
     "data": {
      "text/plain": [
       "<matplotlib.axes._subplots.AxesSubplot at 0x206e366a710>"
      ]
     },
     "execution_count": 65,
     "metadata": {},
     "output_type": "execute_result"
    },
    {
     "data": {
      "image/png": "[encoded data removed]",
      "text/plain": [
       "<Figure size 432x288 with 1 Axes>"
      ]
     },
     "metadata": {
      "needs_background": "light"
     },
     "output_type": "display_data"
    }
   ],
   "source": [
    "#Autocorrelation plot\n",
    "from statsmodels.graphics.tsaplots import plot_acf\n",
    "\n",
    "autocorrelation_plot(temp)\n",
    "#pyplot.show()"
   ]
  },
  {
   "cell_type": "code",
   "execution_count": 66,
   "metadata": {},
   "outputs": [],
   "source": [
    "from statsmodels.tsa.arima_model import ARIMA\n",
    "\n",
    "model = ARIMA(temp, order=(5,0,2))\n",
    "model_fit=model.fit(disp=0)\n"
   ]
  },
  {
   "cell_type": "code",
   "execution_count": 67,
   "metadata": {},
   "outputs": [
    {
     "name": "stdout",
     "output_type": "stream",
     "text": [
      "                              ARMA Model Results                              \n",
      "==============================================================================\n",
      "Dep. Variable:        106THSO_LNODED1   No. Observations:                  762\n",
      "Model:                     ARMA(5, 2)   Log Likelihood               -3760.266\n",
      "Method:                       css-mle   S.D. of innovations             33.629\n",
      "Date:                Mon, 06 May 2019   AIC                           7538.532\n",
      "Time:                        20:51:14   BIC                           7580.255\n",
      "Sample:                             0   HQIC                          7554.597\n",
      "                                                                              \n",
      "=========================================================================================\n",
      "                            coef    std err          z      P>|z|      [0.025      0.975]\n",
      "-----------------------------------------------------------------------------------------\n",
      "const                    40.5254      3.808     10.641      0.000      33.061      47.989\n",
      "ar.L1.106THSO_LNODED1     0.3913      0.318      1.229      0.219      -0.233       1.015\n",
      "ar.L2.106THSO_LNODED1    -0.2718      0.237     -1.148      0.251      -0.736       0.192\n",
      "ar.L3.106THSO_LNODED1     0.2210      0.179      1.235      0.217      -0.130       0.572\n",
      "ar.L4.106THSO_LNODED1     0.0252      0.048      0.522      0.602      -0.069       0.120\n",
      "ar.L5.106THSO_LNODED1     0.1069      0.045      2.367      0.018       0.018       0.195\n",
      "ma.L1.106THSO_LNODED1     0.2526      0.321      0.787      0.432      -0.377       0.882\n",
      "ma.L2.106THSO_LNODED1     0.4022      0.268      1.500      0.134      -0.123       0.928\n",
      "                                    Roots                                    \n",
      "=============================================================================\n",
      "                  Real          Imaginary           Modulus         Frequency\n",
      "-----------------------------------------------------------------------------\n",
      "AR.1            1.2986           -0.0000j            1.2986           -0.0000\n",
      "AR.2            0.3230           -1.4528j            1.4883           -0.2152\n",
      "AR.3            0.3230           +1.4528j            1.4883            0.2152\n",
      "AR.4           -1.0899           -1.4365j            1.8032           -0.3533\n",
      "AR.5           -1.0899           +1.4365j            1.8032            0.3533\n",
      "MA.1           -0.3140           -1.5452j            1.5768           -0.2819\n",
      "MA.2           -0.3140           +1.5452j            1.5768            0.2819\n",
      "-----------------------------------------------------------------------------\n"
     ]
    },
    {
     "data": {
      "image/png": "[encoded data removed]",
      "text/plain": [
       "<Figure size 432x288 with 1 Axes>"
      ]
     },
     "metadata": {
      "needs_background": "light"
     },
     "output_type": "display_data"
    },
    {
     "data": {
      "image/png": "[encoded data removed]",
      "text/plain": [
       "<Figure size 432x288 with 1 Axes>"
      ]
     },
     "metadata": {
      "needs_background": "light"
     },
     "output_type": "display_data"
    },
    {
     "name": "stdout",
     "output_type": "stream",
     "text": [
      "                0\n",
      "count  762.000000\n",
      "mean     0.036622\n",
      "std     33.658953\n",
      "min   -296.346957\n",
      "25%     -7.810634\n",
      "50%     -3.175035\n",
      "75%      2.258795\n",
      "max    405.325611\n"
     ]
    }
   ],
   "source": [
    "from pandas import DataFrame\n",
    "\n",
    "print(model_fit.summary())\n",
    "residuals=DataFrame(model_fit.resid)\n",
    "residuals.plot()\n",
    "pyplot.show()\n",
    "residuals.plot(kind='kde')\n",
    "pyplot.show()\n",
    "print(residuals.describe())"
   ]
  },
  {
   "cell_type": "code",
   "execution_count": 68,
   "metadata": {},
   "outputs": [
    {
     "data": {
      "text/plain": [
       "Date\n",
       "20160301    40.525404\n",
       "20160302    21.028660\n",
       "20160303    30.545651\n",
       "20160304    27.244622\n",
       "20160305    25.913076\n",
       "20160306    27.330774\n",
       "20160307    34.996062\n",
       "20160308    27.035707\n",
       "20160309    26.336559\n",
       "20160310    27.883126\n",
       "20160311    28.521672\n",
       "20160312    28.812715\n",
       "20160313    30.939345\n",
       "20160314    29.752264\n",
       "20160315    31.693840\n",
       "20160316    28.396364\n",
       "20160317    32.087275\n",
       "20160318    32.288461\n",
       "20160319    28.839522\n",
       "20160320    31.087881\n",
       "20160321    33.140392\n",
       "20160322    34.764981\n",
       "20160323    32.640579\n",
       "20160324    31.930532\n",
       "20160325    31.385393\n",
       "20160326    26.851416\n",
       "20160327    30.180142\n",
       "20160328    34.800391\n",
       "20160329    29.648288\n",
       "20160330    32.351654\n",
       "              ...    \n",
       "20180201    34.827220\n",
       "20180201    23.954679\n",
       "20180202    26.251853\n",
       "20180203    36.241344\n",
       "20180204    36.436809\n",
       "20180205    35.268827\n",
       "20180206    34.841323\n",
       "20180207    35.662098\n",
       "20180208    35.773142\n",
       "20180209    34.623982\n",
       "20180210    35.517724\n",
       "20180211    38.318680\n",
       "20180212    36.329967\n",
       "20180213    35.169549\n",
       "20180214    31.772699\n",
       "20180215    30.795699\n",
       "20180216    30.174115\n",
       "20180217    35.610089\n",
       "20180218    37.746847\n",
       "20180219    41.870470\n",
       "20180220    39.829977\n",
       "20180221    50.391841\n",
       "20180222    66.326345\n",
       "20180223    61.572920\n",
       "20180224    67.158476\n",
       "20180225    50.535313\n",
       "20180226    54.075554\n",
       "20180227    50.778348\n",
       "20180228    44.182331\n",
       "20180301    45.000238\n",
       "Length: 762, dtype: float64"
      ]
     },
     "execution_count": 68,
     "metadata": {},
     "output_type": "execute_result"
    }
   ],
   "source": [
    "from statsmodels.tsa.arima_model import ARIMA\n",
    "\n",
    "model = ARIMA(temp, order=(5,0,2))\n",
    "model_fit=model.fit(disp=0)\n",
    "\n",
    "\n",
    "model_fit.predict()\n"
   ]
  },
  {
   "cell_type": "markdown",
   "metadata": {},
   "source": [
    "<h2> Incremental Predictions </h2>"
   ]
  },
  {
   "cell_type": "code",
   "execution_count": 71,
   "metadata": {},
   "outputs": [],
   "source": [
    "len(price_df)\n",
    "price_df_train = price_df.head(650)"
   ]
  },
  {
   "cell_type": "code",
   "execution_count": 72,
   "metadata": {},
   "outputs": [],
   "source": [
    "price_df_test = price_df.tail(-650)"
   ]
  },
  {
   "cell_type": "code",
   "execution_count": null,
   "metadata": {},
   "outputs": [],
   "source": []
  },
  {
   "cell_type": "code",
   "execution_count": 82,
   "metadata": {
    "scrolled": true
   },
   "outputs": [
    {
     "name": "stdout",
     "output_type": "stream",
     "text": [
      "0.06568785974915843\n"
     ]
    },
    {
     "data": {
      "image/png": "[encoded data removed]",
      "text/plain": [
       "<Figure size 432x288 with 1 Axes>"
      ]
     },
     "metadata": {
      "needs_background": "light"
     },
     "output_type": "display_data"
    }
   ],
   "source": [
    "predictions = list()\n",
    "history = list()\n",
    "\n",
    "import warnings\n",
    "warnings.filterwarnings('ignore')\n",
    "from sklearn.metrics import mean_squared_error\n",
    "\n",
    "def rolling_predictions(x):\n",
    "    price_df_train = x.head(650)\n",
    "    price_df_test = x.tail(-650)\n",
    "    for i in range(len(price_df_test)):\n",
    "        if i == (len(price_df_test)-2):\n",
    "            break\n",
    "        model = ARIMA(x.head(650 + i),order = (1,0,2))\n",
    "        model_fit = model.fit(disp=0)\n",
    "        output = model_fit.forecast()\n",
    "        predicted_value = output[0]\n",
    "        predictions.append(predicted_value)\n",
    "        actual_value=price_df_test.iloc[i]\n",
    "        history.append(actual_value)\n",
    "        #print(\"Predicted value {} Actual value {}\".format(predicted_value,actual_value))\n",
    "    error = mean_squared_error(history,predictions)\n",
    "    print(error)\n",
    "    plt.plot(history,label = \"Historical Data\")\n",
    "    plt.plot(predictions,label = \"Predicted Value\")\n",
    "    plt.legend(loc ='upper left')\n",
    "    plt.show()\n",
    "\n",
    "#temp = price_df[\"106THSO_LNODED1\"]\n",
    "#San Diego,Fresno\n",
    "#temp = np.log(temp)\n",
    "#len(temp)\n",
    "rolling_predictions(temp_log)\n"
   ]
  },
  {
   "cell_type": "code",
   "execution_count": 83,
   "metadata": {},
   "outputs": [
    {
     "data": {
      "text/plain": [
       "Date\n",
       "20160301    2.284986\n",
       "20160302    3.181714\n",
       "20160303    3.022796\n",
       "20160304    3.020094\n",
       "20160305    3.116380\n",
       "20160306    3.454275\n",
       "20160307    3.055480\n",
       "20160308    3.031199\n",
       "20160309    3.037733\n",
       "20160310    3.047840\n",
       "20160311    3.194439\n",
       "20160312    3.315833\n",
       "20160313    3.215181\n",
       "20160314    3.334849\n",
       "20160315    3.116258\n",
       "20160316    3.325862\n",
       "20160317    3.355640\n",
       "20160318    3.152995\n",
       "20160319    3.301613\n",
       "20160320    3.374507\n",
       "20160321    3.475235\n",
       "20160322    3.411826\n",
       "20160323    3.333488\n",
       "20160324    3.268265\n",
       "20160325    2.958717\n",
       "20160326    3.209473\n",
       "20160327    3.470431\n",
       "20160328    3.227950\n",
       "20160329    3.404705\n",
       "20160330    2.974578\n",
       "              ...   \n",
       "20180201    2.740317\n",
       "20180201    2.968088\n",
       "20180202    3.497435\n",
       "20180203    3.550997\n",
       "20180204    3.605064\n",
       "20180205    3.513921\n",
       "20180206    3.453676\n",
       "20180207    3.495405\n",
       "20180208    3.463855\n",
       "20180209    3.505563\n",
       "20180210    3.627855\n",
       "20180211    3.545956\n",
       "20180212    3.498620\n",
       "20180213    3.297393\n",
       "20180214    3.204152\n",
       "20180215    3.189419\n",
       "20180216    3.504446\n",
       "20180217    3.630290\n",
       "20180218    3.801923\n",
       "20180219    3.721298\n",
       "20180220    4.027270\n",
       "20180221    4.393225\n",
       "20180222    4.320595\n",
       "20180223    4.438337\n",
       "20180224    4.001074\n",
       "20180225    4.026645\n",
       "20180226    3.961411\n",
       "20180227    3.762306\n",
       "20180228    3.865538\n",
       "20180301    3.802236\n",
       "Name: 106THSO_LNODED1, Length: 762, dtype: float64"
      ]
     },
     "execution_count": 83,
     "metadata": {},
     "output_type": "execute_result"
    }
   ],
   "source": [
    "temp_log"
   ]
  },
  {
   "cell_type": "markdown",
   "metadata": {},
   "source": [
    "<h2>Reading the locations </h2>"
   ]
  },
  {
   "cell_type": "code",
   "execution_count": 84,
   "metadata": {},
   "outputs": [],
   "source": [
    "locs = pd.read_csv(\"city_names_lat_long_final.csv\",header=None)"
   ]
  },
  {
   "cell_type": "code",
   "execution_count": 92,
   "metadata": {},
   "outputs": [
    {
     "data": {
      "text/html": [
       "<div>\n",
       "<style scoped>\n",
       "    .dataframe tbody tr th:only-of-type {\n",
       "        vertical-align: middle;\n",
       "    }\n",
       "\n",
       "    .dataframe tbody tr th {\n",
       "        vertical-align: top;\n",
       "    }\n",
       "\n",
       "    .dataframe thead th {\n",
       "        text-align: right;\n",
       "    }\n",
       "</style>\n",
       "<table border=\"1\" class=\"dataframe\">\n",
       "  <thead>\n",
       "    <tr style=\"text-align: right;\">\n",
       "      <th></th>\n",
       "      <th>0</th>\n",
       "      <th>1</th>\n",
       "      <th>2</th>\n",
       "      <th>3</th>\n",
       "      <th>4</th>\n",
       "    </tr>\n",
       "  </thead>\n",
       "  <tbody>\n",
       "    <tr>\n",
       "      <th>0</th>\n",
       "      <td>106THSO_LNODED1</td>\n",
       "      <td>40.55611</td>\n",
       "      <td>-111.90056</td>\n",
       "      <td>Salt Lake County</td>\n",
       "      <td>Utah</td>\n",
       "    </tr>\n",
       "    <tr>\n",
       "      <th>1</th>\n",
       "      <td>118THSO_LNODER1</td>\n",
       "      <td>40.53944</td>\n",
       "      <td>-111.89667</td>\n",
       "      <td>Salt Lake County</td>\n",
       "      <td>Utah</td>\n",
       "    </tr>\n",
       "    <tr>\n",
       "      <th>2</th>\n",
       "      <td>13THSO_LNODE-3</td>\n",
       "      <td>40.73972</td>\n",
       "      <td>-111.88627</td>\n",
       "      <td>Salt Lake County</td>\n",
       "      <td>Utah</td>\n",
       "    </tr>\n",
       "    <tr>\n",
       "      <th>3</th>\n",
       "      <td>13THSO_LNODED2</td>\n",
       "      <td>40.73972</td>\n",
       "      <td>-111.88639</td>\n",
       "      <td>Salt Lake County</td>\n",
       "      <td>Utah</td>\n",
       "    </tr>\n",
       "    <tr>\n",
       "      <th>4</th>\n",
       "      <td>23RDST_LNODED3</td>\n",
       "      <td>41.22611</td>\n",
       "      <td>-111.96939</td>\n",
       "      <td>Weber County</td>\n",
       "      <td>Utah</td>\n",
       "    </tr>\n",
       "  </tbody>\n",
       "</table>\n",
       "</div>"
      ],
      "text/plain": [
       "                 0         1          2                 3     4\n",
       "0  106THSO_LNODED1  40.55611 -111.90056  Salt Lake County  Utah\n",
       "1  118THSO_LNODER1  40.53944 -111.89667  Salt Lake County  Utah\n",
       "2   13THSO_LNODE-3  40.73972 -111.88627  Salt Lake County  Utah\n",
       "3   13THSO_LNODED2  40.73972 -111.88639  Salt Lake County  Utah\n",
       "4   23RDST_LNODED3  41.22611 -111.96939      Weber County  Utah"
      ]
     },
     "execution_count": 92,
     "metadata": {},
     "output_type": "execute_result"
    }
   ],
   "source": [
    "locs.head()"
   ]
  },
  {
   "cell_type": "code",
   "execution_count": null,
   "metadata": {},
   "outputs": [],
   "source": [
    "cal_nodes = locs[locs[4]=='California']\n",
    "sf = cal_nodes[cal_nodes[3]=='San Francisco County']\n",
    "pricing_upd_df = price_df[['DALYCTY_1_N016','BAYSHOR2_1_N001','BAYSHOR1_1_N001']]"
   ]
  },
  {
   "cell_type": "code",
   "execution_count": null,
   "metadata": {},
   "outputs": [],
   "source": [
    "pricing_upd_df.head(10)\n",
    "\n"
   ]
  },
  {
   "cell_type": "code",
   "execution_count": null,
   "metadata": {},
   "outputs": [],
   "source": [
    "pricing_upd_df.reset_index(inplace=True)"
   ]
  },
  {
   "cell_type": "code",
   "execution_count": null,
   "metadata": {},
   "outputs": [],
   "source": [
    "def convert_index_datetime(x):\n",
    "    from datetime import datetime \n",
    "    x = str(x)\n",
    "    y = x[:4]+'-'+x[4:6]+'-'+x[6:]\n",
    "    z=datetime.strptime(y,'%Y-%m-%d')\n",
    "    return z\n",
    "\n",
    "pricing_upd_df['Date'] = pricing_upd_df['Date'].apply(convert_index_datetime)\n",
    "pricing_upd_df['Year'] = [x.year for x in pricing_upd_df['Date']]"
   ]
  },
  {
   "cell_type": "markdown",
   "metadata": {},
   "source": [
    "<h2>Extracting Relevant Rows for the correct timeperiod</h2>\n"
   ]
  },
  {
   "cell_type": "code",
   "execution_count": null,
   "metadata": {},
   "outputs": [],
   "source": [
    "pricing_upd_df = pricing_upd_df[pricing_upd_df['Year']==2017]"
   ]
  },
  {
   "cell_type": "code",
   "execution_count": null,
   "metadata": {},
   "outputs": [],
   "source": [
    "pricing_upd_df.set_index('Date',inplace=True)"
   ]
  },
  {
   "cell_type": "code",
   "execution_count": null,
   "metadata": {},
   "outputs": [],
   "source": [
    "pricing_upd_df=pricing_upd_df.drop('Year',axis = 1)"
   ]
  },
  {
   "cell_type": "code",
   "execution_count": null,
   "metadata": {},
   "outputs": [],
   "source": []
  },
  {
   "cell_type": "code",
   "execution_count": null,
   "metadata": {},
   "outputs": [],
   "source": [
    "#Plotting the log scale graphs\n",
    "np.log(pricing_upd_df['BAYSHOR1_1_N001']).plot()"
   ]
  },
  {
   "cell_type": "code",
   "execution_count": null,
   "metadata": {},
   "outputs": [],
   "source": [
    "#Plotting the log scale graphs\n",
    "np.log(pricing_upd_df['DALYCTY_1_N016']).plot()"
   ]
  },
  {
   "cell_type": "code",
   "execution_count": null,
   "metadata": {},
   "outputs": [],
   "source": [
    "#Plotting the log scale graphs\n",
    "np.log(pricing_upd_df['BAYSHOR2_1_N001']).plot()"
   ]
  },
  {
   "cell_type": "markdown",
   "metadata": {},
   "source": [
    "<h2> The values of the station are relavtively similar as indiciated by the pattern </h2>"
   ]
  },
  {
   "cell_type": "markdown",
   "metadata": {},
   "source": [
    "<h1> Exogenous Variables </h1>"
   ]
  },
  {
   "cell_type": "code",
   "execution_count": null,
   "metadata": {},
   "outputs": [],
   "source": [
    "exogenous_data = pd.read_csv('1721462.csv')"
   ]
  },
  {
   "cell_type": "code",
   "execution_count": null,
   "metadata": {},
   "outputs": [],
   "source": [
    "exogenous_data.columns"
   ]
  },
  {
   "cell_type": "code",
   "execution_count": null,
   "metadata": {},
   "outputs": [],
   "source": [
    "#extracting Daily Average Temperature\n",
    "\n",
    "exogenous_data = exogenous_data[['DATE','REPORT_TYPE','DailyAverageDryBulbTemperature']]"
   ]
  },
  {
   "cell_type": "code",
   "execution_count": null,
   "metadata": {},
   "outputs": [],
   "source": [
    "exogenous_data = exogenous_data[exogenous_data['REPORT_TYPE']=='SOD  '] #Dropping intra day temp"
   ]
  },
  {
   "cell_type": "code",
   "execution_count": null,
   "metadata": {},
   "outputs": [],
   "source": [
    "exogenous_data.head(10)"
   ]
  },
  {
   "cell_type": "code",
   "execution_count": null,
   "metadata": {},
   "outputs": [],
   "source": [
    "#Dropping irrelevant rows\n",
    "exogenous_data=exogenous_data.drop('REPORT_TYPE',axis=1)\n"
   ]
  },
  {
   "cell_type": "code",
   "execution_count": null,
   "metadata": {},
   "outputs": [],
   "source": [
    "#Converting to correct time format\n",
    "\n",
    "def convert_exogenous_datetime(x):\n",
    "    from datetime import datetime \n",
    "    z=datetime.strptime(x[:10],'%Y-%m-%d')\n",
    "    return z\n",
    "\n",
    "exogenous_data['DATE']=exogenous_data['DATE'].apply(convert_exogenous_datetime)"
   ]
  },
  {
   "cell_type": "code",
   "execution_count": null,
   "metadata": {},
   "outputs": [],
   "source": [
    "exogenous_data.set_index('DATE',inplace=True)"
   ]
  },
  {
   "cell_type": "code",
   "execution_count": null,
   "metadata": {},
   "outputs": [],
   "source": [
    "exogenous_data.plot()"
   ]
  },
  {
   "cell_type": "markdown",
   "metadata": {},
   "source": [
    "<h1>ARIMA X</h1>"
   ]
  },
  {
   "cell_type": "code",
   "execution_count": null,
   "metadata": {},
   "outputs": [],
   "source": [
    "pricing_upd_df['BAYSHOR1_1_N001'].corr(exogenous_data['DailyAverageDryBulbTemperature'])"
   ]
  },
  {
   "cell_type": "code",
   "execution_count": null,
   "metadata": {},
   "outputs": [],
   "source": [
    "pricing_upd_df['DALYCTY_1_N016'].corr(exogenous_data['DailyAverageDryBulbTemperature'])"
   ]
  },
  {
   "cell_type": "code",
   "execution_count": null,
   "metadata": {},
   "outputs": [],
   "source": [
    "pricing_upd_df['BAYSHOR2_1_N001'].corr(exogenous_data['DailyAverageDryBulbTemperature'])"
   ]
  },
  {
   "cell_type": "markdown",
   "metadata": {},
   "source": [
    "<h2>Columns are correlated, now implementing ARIMA X</h2>"
   ]
  },
  {
   "cell_type": "code",
   "execution_count": null,
   "metadata": {},
   "outputs": [],
   "source": [
    "plt.plot(pricing_upd_df['DALYCTY_1_N016'],label='Daily Electricity Price')\n",
    "plt.plot(exogenous_data['DailyAverageDryBulbTemperature'],label='Daily Average Temperature')\n",
    "plt.legend(loc='upper left')\n",
    "plt.show()"
   ]
  },
  {
   "cell_type": "code",
   "execution_count": null,
   "metadata": {},
   "outputs": [],
   "source": [
    "log_pricing = pricing_upd_df['DALYCTY_1_N016']\n",
    "log_pricing = np.log(log_pricing)"
   ]
  },
  {
   "cell_type": "code",
   "execution_count": null,
   "metadata": {},
   "outputs": [],
   "source": [
    "plt.plot(log_pricing,label='Daily Price Data')\n",
    "plt.plot(exogenous_data['DailyAverageDryBulbTemperature'],label='Daily Average Temperature')\n",
    "plt.legend(loc='upper left')\n",
    "plt.show()"
   ]
  },
  {
   "cell_type": "code",
   "execution_count": null,
   "metadata": {},
   "outputs": [],
   "source": [
    "print(len(log_pricing.dropna(how='any')))\n",
    "print(len(exogenous_data.dropna(how='any')))"
   ]
  },
  {
   "cell_type": "code",
   "execution_count": null,
   "metadata": {},
   "outputs": [],
   "source": [
    "print(exogenous_data.tail(10))\n",
    "print(log_pricing.tail(10))\n",
    "log_pricing = pd.DataFrame(log_pricing)"
   ]
  },
  {
   "cell_type": "code",
   "execution_count": null,
   "metadata": {},
   "outputs": [],
   "source": [
    "log_pricing.reset_index(inplace=True)\n",
    "exogenous_data.reset_index(inplace=True)\n",
    "exogenous_data=exogenous_data.rename(columns={'DATE':'Date'})\n",
    "final_df = pd.merge(log_pricing,exogenous_data,how='inner',on=['Date'])\n",
    "final_df.set_index('Date',inplace=True)\n"
   ]
  },
  {
   "cell_type": "code",
   "execution_count": null,
   "metadata": {
    "scrolled": true
   },
   "outputs": [],
   "source": [
    "predictions = list()\n",
    "history = list()\n",
    "\n",
    "import warnings\n",
    "warnings.filterwarnings('ignore')\n",
    "from sklearn.metrics import mean_squared_error\n",
    "\n",
    "def rolling_predictions_exogenous(x):\n",
    "    import statsmodels.api as sm\n",
    "    train = x.head(285)\n",
    "    test = x.tail(-285)\n",
    "    for i in range(len(test)):\n",
    "        if i == (len(test)-2):\n",
    "            break\n",
    "        model = sm.tsa.ARIMA(endog=x['DALYCTY_1_N016'].head(285 + i),exog=x['DailyAverageDryBulbTemperature'].head(285+i),order = (1,0,2))\n",
    "        model_fit = model.fit()\n",
    "        output = model_fit.predict()[-1]\n",
    "        predicted_value = output\n",
    "        predictions.append(predicted_value)\n",
    "        actual_value=test['DALYCTY_1_N016'].iloc[i-1]\n",
    "        history.append(actual_value)\n",
    "        #print(\"Predicted value {} Actual value {}\".format(predicted_value,actual_value))\n",
    "    error = mean_squared_error(history,predictions)\n",
    "    print(error)\n",
    "    plt.plot(history,label = \"Historical Data\")\n",
    "    plt.plot(predictions,label = \"Predicted Value\")\n",
    "    plt.legend(loc ='upper left')\n",
    "    plt.show()\n",
    "\n",
    "rolling_predictions_exogenous(final_df.dropna(how='any'))"
   ]
  },
  {
   "cell_type": "code",
   "execution_count": null,
   "metadata": {},
   "outputs": [],
   "source": []
  },
  {
   "cell_type": "markdown",
   "metadata": {},
   "source": [
    "<h2>GUI</h2>"
   ]
  },
  {
   "cell_type": "code",
   "execution_count": null,
   "metadata": {},
   "outputs": [],
   "source": [
    "import wx\n",
    "#Adding a Menu Item\n",
    "\n",
    "class windowClass(wx.Frame):\n",
    "    \n",
    "    def __init__(self,*args,**kwargs):\n",
    "        super(windowClass,self).__init__(*args,**kwargs)\n",
    "        \n",
    "        self.basicGUI()\n",
    "    \n",
    "    def basicGUI(self):\n",
    "        \n",
    "        panel = wx.Panel(self)\n",
    "        menuBar=wx.MenuBar()\n",
    "        fileButton = wx.Menu()\n",
    "        editButton = wx.Menu()\n",
    "        \n",
    "        exitItem = fileButton.Append(wx.ID_EXIT,'Exit','status message') #Appending rules \n",
    "        \n",
    "        #Appending file button to the menu bar\n",
    "        menuBar.Append(fileButton,'File')\n",
    "        menuBar.Append(editButton,'Edit')\n",
    "        \n",
    "        self.SetMenuBar(menuBar)\n",
    "        self.Bind(wx.EVT_MENU,self.Quit,exitItem)\n",
    "        \n",
    "        nameBox = wx.TextEntryDialog(None,'Whatcha Doing?','Welcome','Name')\n",
    "        \n",
    "        if(nameBox.ShowModal()==wx.ID_OK):\n",
    "            userName=nameBox.GetValue()\n",
    "        \n",
    "        yesNoBox = wx.MessageDialog(None,'Are you sure?','Question',wx.YES_NO)\n",
    "        yesNoAnswer = yesNoBox.ShowModal()\n",
    "        yesNoBox.Destroy()                                                                                                                                                                     \n",
    "        \n",
    "        wx.TextCtrl(panel,pos=(10,10),size=(250,150))\n",
    "        \n",
    "        if(yesNoAnswer ==wx.ID_NO):\n",
    "            userName = 'Loser!'\n",
    "        \n",
    "        self.SetTitle('Cowen '+userName) \n",
    "        self.Show(True)\n",
    "        \n",
    "    def Quit(self, e):\n",
    "        self.Close()\n",
    "    \n",
    "def main():\n",
    "    app4=wx.App()\n",
    "    windowClass(None)\n",
    "    app4.MainLoop()\n",
    "\n",
    "main()"
   ]
  },
  {
   "cell_type": "code",
   "execution_count": null,
   "metadata": {},
   "outputs": [],
   "source": []
  },
  {
   "cell_type": "code",
   "execution_count": 88,
   "metadata": {},
   "outputs": [],
   "source": [
    "pdf = pd.read_pickle('Location_pickle.pkl')\n"
   ]
  },
  {
   "cell_type": "code",
   "execution_count": 90,
   "metadata": {},
   "outputs": [
    {
     "data": {
      "text/plain": [
       "array(['San Jose', 'Fresno', 'Los Angeles', 'Sacramento', 'San Diego',\n",
       "       'San Francisco'], dtype=object)"
      ]
     },
     "execution_count": 90,
     "metadata": {},
     "output_type": "execute_result"
    }
   ],
   "source": [
    "pdf['location'].unique()"
   ]
  },
  {
   "cell_type": "code",
   "execution_count": 22,
   "metadata": {
    "scrolled": true
   },
   "outputs": [],
   "source": [
    "pdf = pd.read_pickle('Location_pickle.pkl')\n",
    "pdf['location'].unique()\n",
    "temp_nodes = pdf[pdf['location']=='San Jose']\n",
    "\n",
    "sj = price_df[temp_nodes['Node_id']]\n",
    "sj = sj.dropna(how='any')\n",
    "avg_price = list()\n",
    "index = list()\n",
    "for i in range(len(sj)):\n",
    "    index.append(sj.index[i])\n",
    "    avg_price.append(sum(sj.iloc[i])/len(sj.iloc[i]))\n",
    "    \n",
    "    \n",
    "avg_price_sj = pd.DataFrame(\n",
    "    {'Date': index,\n",
    "     'Daily Price': avg_price\n",
    "    })\n",
    "\n",
    "avg_price_sj.set_index('Date',inplace=True)\n",
    "avg_price_sj.to_pickle('./SJ.pkl')"
   ]
  },
  {
   "cell_type": "code",
   "execution_count": null,
   "metadata": {},
   "outputs": [],
   "source": []
  },
  {
   "cell_type": "code",
   "execution_count": null,
   "metadata": {
    "scrolled": true
   },
   "outputs": [],
   "source": [
    "len(avg_price_sj)\n"
   ]
  },
  {
   "cell_type": "code",
   "execution_count": null,
   "metadata": {},
   "outputs": [],
   "source": [
    "sj.index[0]"
   ]
  },
  {
   "cell_type": "markdown",
   "metadata": {},
   "source": [
    "<h2> Plotting and Predicting for different cities </h2>"
   ]
  },
  {
   "cell_type": "code",
   "execution_count": 47,
   "metadata": {
    "scrolled": true
   },
   "outputs": [
    {
     "data": {
      "text/plain": [
       "<matplotlib.axes._subplots.AxesSubplot at 0x206e369ce10>"
      ]
     },
     "execution_count": 47,
     "metadata": {},
     "output_type": "execute_result"
    },
    {
     "data": {
      "image/png": "[encoded data removed]",
      "text/plain": [
       "<Figure size 432x288 with 1 Axes>"
      ]
     },
     "metadata": {
      "needs_background": "light"
     },
     "output_type": "display_data"
    }
   ],
   "source": [
    "#Read the pickle\n",
    "from statsmodels.tsa.arima_model import ARIMA\n",
    "import matplotlib.pylab as plt\n",
    "    \n",
    "\n",
    "pricing_upd_df = pd.read_pickle(\"SJ.pkl\")\n",
    "\n",
    "pricing_upd_df=pricing_upd_df.rename(index=str, columns={\"Daily price\": \"Daily Price\"})\n",
    "\n",
    "pricing_upd_df.reset_index(inplace=True)\n",
    "\n",
    "\n",
    "def convert_index_datetime(x):\n",
    "    from datetime import datetime \n",
    "    x = str(x)\n",
    "    y = x[:4]+'-'+x[4:6]+'-'+x[6:]\n",
    "    z=datetime.strptime(y,'%Y-%m-%d')\n",
    "    return z\n",
    "\n",
    "pricing_upd_df['Date'] = pricing_upd_df['Date'].apply(convert_index_datetime)\n",
    "pricing_upd_df['Year'] = [x.year for x in pricing_upd_df['Date']]\n",
    "\n",
    "pricing_upd_df = pricing_upd_df[pricing_upd_df['Year']==2017]\n",
    "pricing_upd_df.set_index('Date',inplace=True)\n",
    "pricing_upd_df=pricing_upd_df.drop('Year',axis = 1)\n",
    "pricing_upd_df = pricing_upd_df.dropna(how='any')\n",
    "\n",
    "pricing_upd_df.plot()"
   ]
  },
  {
   "cell_type": "code",
   "execution_count": 48,
   "metadata": {},
   "outputs": [
    {
     "name": "stdout",
     "output_type": "stream",
     "text": [
      "Mean Squard Error: 0.054472663567956325\n"
     ]
    },
    {
     "data": {
      "image/png": "[encoded data removed]",
      "text/plain": [
       "<Figure size 432x288 with 1 Axes>"
      ]
     },
     "metadata": {
      "needs_background": "light"
     },
     "output_type": "display_data"
    }
   ],
   "source": [
    "#Running the ARIMA\n",
    "\n",
    "predictions = list()\n",
    "history = list()\n",
    "\n",
    "\n",
    "def rolling_predictions(x):\n",
    "    import warnings\n",
    "    warnings.filterwarnings('ignore')\n",
    "    from sklearn.metrics import mean_squared_error\n",
    "    price_df_train = x.head(300)\n",
    "    price_df_test = x.tail(-300)\n",
    "    for i in range(len(price_df_test)):\n",
    "        if i == (len(price_df_test)-2):\n",
    "            break\n",
    "        model = ARIMA(x.head(300 + i),order = (5,0,2))\n",
    "        model_fit = model.fit(disp=0)\n",
    "        output = model_fit.forecast()\n",
    "        predicted_value = output[0]\n",
    "        predictions.append(predicted_value)\n",
    "        actual_value=price_df_test.iloc[i]\n",
    "        history.append(actual_value)\n",
    "        #print(\"Predicted value {} Actual value {}\".format(predicted_value,actual_value))\n",
    "    error = mean_squared_error(history,predictions)\n",
    "    print(\"Mean Squard Error:\",error)\n",
    "    plt.plot(history,label = \"Historical Data\")\n",
    "    plt.plot(predictions,label = \"Predicted Value\")\n",
    "    plt.legend(loc ='upper left')\n",
    "    plt.show()\n",
    "\n",
    "#temp = price_df[\"106THSO_LNODED1\"]\n",
    "#San Diego,Fresno\n",
    "\n",
    "#len(temp)\n",
    "log_pricing = np.log(pricing_upd_df)\n",
    "rolling_predictions(log_pricing)\n"
   ]
  },
  {
   "cell_type": "code",
   "execution_count": 49,
   "metadata": {},
   "outputs": [
    {
     "name": "stdout",
     "output_type": "stream",
     "text": [
      "[48. 47. 52. 54. 45. 42. 61. 56. 57. 50. 46. 49. 51. 53. 58. 60. 63. 55.\n",
      " 59. 62. 67. 64. 65. 66. 72. 75. 77. 69. 68. 71. 73. 74. 70. 76. 87. 81.\n",
      " 82. 79. 78. 89. 91. 88. 80. 84.]\n"
     ]
    },
    {
     "data": {
      "text/plain": [
       "<matplotlib.axes._subplots.AxesSubplot at 0x206e39f1b38>"
      ]
     },
     "execution_count": 49,
     "metadata": {},
     "output_type": "execute_result"
    },
    {
     "data": {
      "image/png": "[encoded data removed]",
      "text/plain": [
       "<Figure size 432x288 with 1 Axes>"
      ]
     },
     "metadata": {
      "needs_background": "light"
     },
     "output_type": "display_data"
    }
   ],
   "source": [
    "#Read the temperature data\n",
    "exogenous_data = pd.read_csv('SanJose.csv')\n",
    "#extracting Daily Average Temperature\n",
    "\n",
    "exogenous_data = exogenous_data[['DATE','REPORT_TYPE','DailyAverageDryBulbTemperature']]\n",
    "exogenous_data = exogenous_data[exogenous_data['REPORT_TYPE']=='SOD  '] #Dropping intra day temp\n",
    "#Dropping irrelevant rows\n",
    "exogenous_data=exogenous_data.drop('REPORT_TYPE',axis=1)\n",
    "\n",
    "#Converting to correct time format\n",
    "\n",
    "def convert_exogenous_datetime(x):\n",
    "    from datetime import datetime \n",
    "    z=datetime.strptime(x[:10],'%Y-%m-%d')\n",
    "    return z\n",
    "\n",
    "exogenous_data['DATE']=exogenous_data['DATE'].apply(convert_exogenous_datetime)\n",
    "exogenous_data.set_index('DATE',inplace=True)\n",
    "\n",
    "exogenous_data.reset_index(inplace=True)\n",
    "print(exogenous_data['DailyAverageDryBulbTemperature'].unique())\n",
    "\n",
    "def convert_temp(x):\n",
    "    try:\n",
    "        y=int(x)\n",
    "    except:\n",
    "        y=np.nan\n",
    "    return y\n",
    "\n",
    "exogenous_data['DailyAverageDryBulbTemperature']=exogenous_data['DailyAverageDryBulbTemperature'].apply(convert_temp)\n",
    "exogenous_data=exogenous_data.dropna(how='any')\n",
    "exogenous_data = (exogenous_data.groupby('DATE').agg('mean'))\n",
    "exogenous_data.plot()"
   ]
  },
  {
   "cell_type": "code",
   "execution_count": 50,
   "metadata": {},
   "outputs": [
    {
     "data": {
      "text/plain": [
       "0.3940474377986184"
      ]
     },
     "execution_count": 50,
     "metadata": {},
     "output_type": "execute_result"
    }
   ],
   "source": [
    "pricing_upd_df['Daily Price'].corr(exogenous_data['DailyAverageDryBulbTemperature'])"
   ]
  },
  {
   "cell_type": "code",
   "execution_count": 51,
   "metadata": {},
   "outputs": [
    {
     "data": {
      "image/png": "[encoded data removed]",
      "text/plain": [
       "<Figure size 432x288 with 1 Axes>"
      ]
     },
     "metadata": {
      "needs_background": "light"
     },
     "output_type": "display_data"
    }
   ],
   "source": [
    "plt.plot(pricing_upd_df['Daily Price'],label='Daily Electricity Price')\n",
    "plt.plot(exogenous_data['DailyAverageDryBulbTemperature'],label='Daily Average Temperature')\n",
    "plt.legend(loc='upper left')\n",
    "plt.show()"
   ]
  },
  {
   "cell_type": "code",
   "execution_count": 52,
   "metadata": {
    "scrolled": true
   },
   "outputs": [],
   "source": [
    "exogenous_data.reset_index(inplace=True)"
   ]
  },
  {
   "cell_type": "code",
   "execution_count": 53,
   "metadata": {},
   "outputs": [],
   "source": [
    "exogenous_data = (exogenous_data.groupby('DATE').agg('mean'))"
   ]
  },
  {
   "cell_type": "code",
   "execution_count": 54,
   "metadata": {
    "scrolled": true
   },
   "outputs": [
    {
     "data": {
      "image/png": "[encoded data removed]",
      "text/plain": [
       "<Figure size 432x288 with 1 Axes>"
      ]
     },
     "metadata": {
      "needs_background": "light"
     },
     "output_type": "display_data"
    }
   ],
   "source": [
    "log_pricing = pricing_upd_df['Daily Price']\n",
    "log_pricing = np.log(log_pricing)\n",
    "\n",
    "plt.plot(log_pricing,label='Daily Price Data')\n",
    "plt.plot(exogenous_data['DailyAverageDryBulbTemperature'],label='Daily Average Temperature')\n",
    "plt.legend(loc='upper left')\n",
    "plt.show()"
   ]
  },
  {
   "cell_type": "code",
   "execution_count": 55,
   "metadata": {},
   "outputs": [
    {
     "name": "stdout",
     "output_type": "stream",
     "text": [
      "350\n",
      "365\n",
      "            DailyAverageDryBulbTemperature\n",
      "DATE                                      \n",
      "2017-12-22                              46\n",
      "2017-12-23                              48\n",
      "2017-12-24                              51\n",
      "2017-12-25                              52\n",
      "2017-12-26                              52\n",
      "2017-12-27                              50\n",
      "2017-12-28                              52\n",
      "2017-12-29                              52\n",
      "2017-12-30                              51\n",
      "2017-12-31                              53\n",
      "Date\n",
      "2017-12-22    3.551012\n",
      "2017-12-23    3.480503\n",
      "2017-12-24    3.001974\n",
      "2017-12-25    3.286262\n",
      "2017-12-26    3.027753\n",
      "2017-12-27    3.627210\n",
      "2017-12-28    3.396271\n",
      "2017-12-29    3.279266\n",
      "2017-12-30    3.490992\n",
      "2017-12-31    3.009182\n",
      "Name: Daily Price, dtype: float64\n"
     ]
    }
   ],
   "source": [
    "print(len(log_pricing.dropna(how='any')))\n",
    "print(len(exogenous_data.dropna(how='any')))\n",
    "print(exogenous_data.tail(10))\n",
    "print(log_pricing.tail(10))\n",
    "log_pricing = pd.DataFrame(log_pricing)"
   ]
  },
  {
   "cell_type": "code",
   "execution_count": 56,
   "metadata": {},
   "outputs": [],
   "source": [
    "log_pricing.reset_index(inplace=True)\n",
    "exogenous_data.reset_index(inplace=True)\n",
    "exogenous_data=exogenous_data.rename(columns={'DATE':'Date'})\n",
    "final_df = pd.merge(log_pricing,exogenous_data,how='inner',on=['Date'])\n",
    "final_df.set_index('Date',inplace=True)\n"
   ]
  },
  {
   "cell_type": "code",
   "execution_count": 57,
   "metadata": {},
   "outputs": [
    {
     "name": "stdout",
     "output_type": "stream",
     "text": [
      "Mean Squared Error: 0.06164746873495014\n"
     ]
    },
    {
     "data": {
      "image/png": "[encoded data removed]",
      "text/plain": [
       "<Figure size 432x288 with 1 Axes>"
      ]
     },
     "metadata": {
      "needs_background": "light"
     },
     "output_type": "display_data"
    }
   ],
   "source": [
    "predictions = list()\n",
    "history = list()\n",
    "\n",
    "import warnings\n",
    "warnings.filterwarnings('ignore')\n",
    "from sklearn.metrics import mean_squared_error\n",
    "\n",
    "def rolling_predictions_exogenous(x):\n",
    "    import statsmodels.api as sm\n",
    "    train = x.head(300)\n",
    "    test = x.tail(-300)\n",
    "    for i in range(len(test)):\n",
    "        if i == (len(test)-2):\n",
    "            break\n",
    "        model = sm.tsa.ARIMA(endog=x['Daily Price'].head(300 + i),exog=x['DailyAverageDryBulbTemperature'].head(300+i),order = (5,0,2))\n",
    "        model_fit = model.fit()\n",
    "        output = model_fit.predict()[-1]\n",
    "        predicted_value = output\n",
    "        predictions.append(predicted_value)\n",
    "        actual_value=test['Daily Price'].iloc[i-1]\n",
    "        history.append(actual_value)\n",
    "        #print(\"Predicted value {} Actual value {}\".format(predicted_value,actual_value))\n",
    "    error = mean_squared_error(history,predictions)\n",
    "    print(\"Mean Squared Error:\",error)\n",
    "    plt.plot(history,label = \"Historical Data\")\n",
    "    plt.plot(predictions,label = \"Predicted Value\")\n",
    "    plt.legend(loc ='upper left')\n",
    "    plt.show()\n",
    "\n",
    "rolling_predictions_exogenous(final_df.dropna(how='any'))"
   ]
  },
  {
   "cell_type": "markdown",
   "metadata": {},
   "source": []
  },
  {
   "cell_type": "code",
   "execution_count": null,
   "metadata": {},
   "outputs": [],
   "source": [
    "la = pd.read_pickle(\"LA.pkl\")"
   ]
  },
  {
   "cell_type": "code",
   "execution_count": null,
   "metadata": {},
   "outputs": [],
   "source": [
    "sf = pd.read_pickle(\"SF.pkl\")"
   ]
  },
  {
   "cell_type": "code",
   "execution_count": null,
   "metadata": {},
   "outputs": [],
   "source": [
    "print(la.head(10))\n",
    "print(sf.head(10))\n"
   ]
  },
  {
   "cell_type": "code",
   "execution_count": null,
   "metadata": {},
   "outputs": [],
   "source": [
    "len(final_df)"
   ]
  },
  {
   "cell_type": "code",
   "execution_count": null,
   "metadata": {},
   "outputs": [],
   "source": []
  }
 ],
 "metadata": {
  "kernelspec": {
   "display_name": "Python 3",
   "language": "python",
   "name": "python3"
  },
  "language_info": {
   "codemirror_mode": {
    "name": "ipython",
    "version": 3
   },
   "file_extension": ".py",
   "mimetype": "text/x-python",
   "name": "python",
   "nbconvert_exporter": "python",
   "pygments_lexer": "ipython3",
   "version": "3.7.0"
  }
 },
 "nbformat": 4,
 "nbformat_minor": 2
}
